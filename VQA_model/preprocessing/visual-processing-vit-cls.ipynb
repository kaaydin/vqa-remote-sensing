{
 "cells": [
  {
   "cell_type": "markdown",
   "metadata": {},
   "source": [
    "## Visual Processing"
   ]
  },
  {
   "cell_type": "markdown",
   "metadata": {},
   "source": [
    "### 1. Import Libraries"
   ]
  },
  {
   "cell_type": "code",
   "execution_count": null,
   "metadata": {},
   "outputs": [],
   "source": [
    "import os\n",
    "import sys\n",
    "module_path = os.path.abspath(os.path.join('..'))\n",
    "if module_path not in sys.path:\n",
    "    sys.path.append(module_path)"
   ]
  },
  {
   "cell_type": "code",
   "execution_count": 1,
   "metadata": {},
   "outputs": [],
   "source": [
    "## Torch libraries\n",
    "import torch\n",
    "import torch.nn as nn\n",
    "from torchvision import models\n",
    "from torchvision import transforms\n",
    "\n",
    "## Import \n",
    "from skimage import io\n",
    "import os\n",
    "\n",
    "from tqdm import tqdm"
   ]
  },
  {
   "cell_type": "code",
   "execution_count": 2,
   "metadata": {},
   "outputs": [
    {
     "data": {
      "text/plain": [
       "device(type='cuda')"
      ]
     },
     "execution_count": 2,
     "metadata": {},
     "output_type": "execute_result"
    }
   ],
   "source": [
    "IMAGE_PATH = \"data/images/\"\n",
    "SAVE_PATH = \"data/image_representations_vit/\"\n",
    "\n",
    "IMAGENET_MEAN = [0.485, 0.456, 0.406]\n",
    "IMAGENET_STD = [0.229, 0.224, 0.225]\n",
    "\n",
    "DEVICE = torch.device(\"cuda\" if torch.cuda.is_available() else \"cpu\")\n",
    "DEVICE"
   ]
  },
  {
   "cell_type": "code",
   "execution_count": 3,
   "metadata": {},
   "outputs": [],
   "source": [
    "img_transforms = transforms.Compose([\n",
    "    transforms.ToPILImage(),\n",
    "    transforms.Resize((224, 224)), # Resize to the expected input size for ViT\n",
    "    transforms.ToTensor(),\n",
    "    transforms.Normalize(mean=[0.485, 0.456, 0.406], std=[0.229, 0.224, 0.225]), # Normalization values for pretrained models on ImageNet\n",
    "])"
   ]
  },
  {
   "cell_type": "markdown",
   "metadata": {},
   "source": []
  },
  {
   "cell_type": "code",
   "execution_count": 4,
   "metadata": {},
   "outputs": [
    {
     "name": "stderr",
     "output_type": "stream",
     "text": [
      "C:\\Users\\damia\\AppData\\Roaming\\Python\\Python310\\site-packages\\torchvision\\models\\_utils.py:208: UserWarning: The parameter 'pretrained' is deprecated since 0.13 and may be removed in the future, please use 'weights' instead.\n",
      "  warnings.warn(\n",
      "C:\\Users\\damia\\AppData\\Roaming\\Python\\Python310\\site-packages\\torchvision\\models\\_utils.py:223: UserWarning: Arguments other than a weight enum or `None` for 'weights' are deprecated since 0.13 and may be removed in the future. The current behavior is equivalent to passing `weights=ViT_B_16_Weights.IMAGENET1K_V1`. You can also use `weights=ViT_B_16_Weights.DEFAULT` to get the most up-to-date weights.\n",
      "  warnings.warn(msg)\n"
     ]
    }
   ],
   "source": [
    "visual = models.vit_l_16(pretrained=True)\n",
    "extracted_layers = list(visual.children())\n",
    "extracted_layers = extracted_layers[0:2] #Remove the last fc and avg pool\n",
    "visual = torch.nn.Sequential(*(list(extracted_layers)))"
   ]
  },
  {
   "cell_type": "code",
   "execution_count": 4,
   "metadata": {},
   "outputs": [
    {
     "name": "stderr",
     "output_type": "stream",
     "text": [
      "Downloading: \"https://download.pytorch.org/models/vit_b_16-c867db91.pth\" to C:\\Users\\damia/.cache\\torch\\hub\\checkpoints\\vit_b_16-c867db91.pth\n",
      "100%|██████████| 330M/330M [00:02<00:00, 116MB/s]  \n"
     ]
    }
   ],
   "source": [
    "import torch.nn as nn\n",
    "from torchvision import models\n",
    "\n",
    "class CustomViT(nn.Module):\n",
    "    def __init__(self, pretrained=True):\n",
    "        super(CustomViT, self).__init__()\n",
    "        \n",
    "        # Load the pretrained ViT model\n",
    "        self.visual = models.vit_b_16(weights=\"DEFAULT\")\n",
    "        \n",
    "        # Remove the classifier head\n",
    "        self.visual.heads.head = nn.Identity()\n",
    "        \n",
    "        # Freeze the model\n",
    "        for param in self.visual.parameters():\n",
    "            param.requires_grad = False\n",
    "        \n",
    "    def forward(self, x):\n",
    "        # Pass the input through the ViT model\n",
    "        x = self.visual(x)\n",
    "        \n",
    "        # Retrieve the CLS token (first token in sequence)\n",
    "        #cls_token = x[:, 0]\n",
    "        \n",
    "        return x\n",
    "\n",
    "# Create an instance of the custom model\n",
    "visual = CustomViT()"
   ]
  },
  {
   "cell_type": "code",
   "execution_count": 5,
   "metadata": {},
   "outputs": [],
   "source": [
    "def readImage(image_path):\n",
    "    img = io.imread(image_path)\n",
    "    return img\n",
    "\n",
    "def countImages(folder_path):\n",
    "    return len(os.listdir(folder_path))\n",
    "\n",
    "def transformImage(img, transforms):\n",
    "    img_transformed = transforms(img.copy())\n",
    "    return img_transformed\n",
    "\n",
    "def getRepresentation(image, model):\n",
    "    image = image.unsqueeze(0)\n",
    "    with torch.no_grad():  # No need to track gradients when making predictions\n",
    "        representation = model(image)\n",
    "    return representation\n",
    "\n",
    "def saveRepresentations(read_folder_path, save_folder_path, transforms, model):\n",
    "    \n",
    "    # Total number of images\n",
    "    total_images = int(countImages(read_folder_path)/2)\n",
    "\n",
    "    # set model to device\n",
    "    model.to(DEVICE)\n",
    "    model.eval()\n",
    "\n",
    "    # Looping through all images \n",
    "\n",
    "    for i in tqdm(range(total_images)):\n",
    "\n",
    "        ## Read and transform image\n",
    "        read_path = os.path.join(read_folder_path, str(i) + '.tif')\n",
    "        save_path = os.path.join(save_folder_path, str(i) + '.pt')\n",
    "\n",
    "        ## Read image\n",
    "        img = readImage(read_path)\n",
    "        \n",
    "        ## Transform image & put to DEVICE\n",
    "        img_transformed = transformImage(img, transforms)\n",
    "        img_transformed = img_transformed.to(DEVICE)\n",
    "\n",
    "        ## Get representation\n",
    "        representation = getRepresentation(img_transformed, model)\n",
    "\n",
    "        ## Move to CPU\n",
    "        #representation = representation.cpu()\n",
    "\n",
    "        ## Squeeze first dimension\n",
    "        representation = representation.squeeze(0).cpu().detach()\n",
    "\n",
    "        ## Save representation\n",
    "        saveArray(representation, save_path)\n",
    "\n",
    "def saveArray(array, path):\n",
    "    torch.save(array, path)\n",
    "\n",
    "def loadArray(path):\n",
    "    return torch.load(path)"
   ]
  },
  {
   "cell_type": "code",
   "execution_count": 6,
   "metadata": {},
   "outputs": [
    {
     "name": "stdout",
     "output_type": "stream",
     "text": [
      "torch.Size([3, 224, 224])\n"
     ]
    },
    {
     "data": {
      "text/plain": [
       "torch.Size([1, 768])"
      ]
     },
     "execution_count": 6,
     "metadata": {},
     "output_type": "execute_result"
    }
   ],
   "source": [
    "# DEBUG OUTPUT shape\n",
    "image = io.imread(\"data/images/0.tif\")\n",
    "image_transformed = transformImage(image, img_transforms)\n",
    "#image_transformed = image_transformed.unsqueeze(0)\n",
    "print(image_transformed.shape)\n",
    "representation = getRepresentation(image_transformed.to(DEVICE), visual.to(DEVICE))\n",
    "representation.shape"
   ]
  },
  {
   "cell_type": "code",
   "execution_count": 7,
   "metadata": {},
   "outputs": [
    {
     "name": "stderr",
     "output_type": "stream",
     "text": [
      "100%|██████████| 10659/10659 [01:49<00:00, 97.28it/s]\n"
     ]
    }
   ],
   "source": [
    "saveRepresentations(IMAGE_PATH, SAVE_PATH, img_transforms, visual) ## Takes like 12/13 minutes to run"
   ]
  },
  {
   "cell_type": "code",
   "execution_count": null,
   "metadata": {},
   "outputs": [],
   "source": []
  }
 ],
 "metadata": {
  "kernelspec": {
   "display_name": "dl-env",
   "language": "python",
   "name": "python3"
  },
  "language_info": {
   "codemirror_mode": {
    "name": "ipython",
    "version": 3
   },
   "file_extension": ".py",
   "mimetype": "text/x-python",
   "name": "python",
   "nbconvert_exporter": "python",
   "pygments_lexer": "ipython3",
   "version": "3.11.6"
  }
 },
 "nbformat": 4,
 "nbformat_minor": 2
}
